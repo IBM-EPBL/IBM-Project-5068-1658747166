{
  "cells": [
    {
      "cell_type": "code",
      "execution_count": null,
      "id": "2df3ee4a",
      "metadata": {
        "id": "2df3ee4a"
      },
      "outputs": [],
      "source": [
        "import pandas as pd"
      ]
    },
    {
      "cell_type": "code",
      "execution_count": null,
      "id": "3d1a76d1",
      "metadata": {
        "id": "3d1a76d1"
      },
      "outputs": [],
      "source": [
        "import numpy as np"
      ]
    },
    {
      "cell_type": "code",
      "execution_count": null,
      "id": "9d9e27e1",
      "metadata": {
        "id": "9d9e27e1"
      },
      "outputs": [],
      "source": [
        "import seaborn as sns"
      ]
    },
    {
      "cell_type": "code",
      "execution_count": null,
      "id": "d96c43a4",
      "metadata": {
        "id": "d96c43a4"
      },
      "outputs": [],
      "source": [
        "import matplotlib.pyplot as plt"
      ]
    },
    {
      "cell_type": "code",
      "execution_count": null,
      "id": "811858ad",
      "metadata": {
        "id": "811858ad",
        "outputId": "cc2c703b-1ae1-48d5-f5c4-c2364eea9e43"
      },
      "outputs": [
        {
          "data": {
            "text/html": [
              "<div>\n",
              "<style scoped>\n",
              "    .dataframe tbody tr th:only-of-type {\n",
              "        vertical-align: middle;\n",
              "    }\n",
              "\n",
              "    .dataframe tbody tr th {\n",
              "        vertical-align: top;\n",
              "    }\n",
              "\n",
              "    .dataframe thead th {\n",
              "        text-align: right;\n",
              "    }\n",
              "</style>\n",
              "<table border=\"1\" class=\"dataframe\">\n",
              "  <thead>\n",
              "    <tr style=\"text-align: right;\">\n",
              "      <th></th>\n",
              "      <th>Sex</th>\n",
              "      <th>Length</th>\n",
              "      <th>Diameter</th>\n",
              "      <th>Height</th>\n",
              "      <th>Whole weight</th>\n",
              "      <th>Shucked weight</th>\n",
              "      <th>Viscera weight</th>\n",
              "      <th>Shell weight</th>\n",
              "      <th>Rings</th>\n",
              "    </tr>\n",
              "  </thead>\n",
              "  <tbody>\n",
              "    <tr>\n",
              "      <th>0</th>\n",
              "      <td>M</td>\n",
              "      <td>0.455</td>\n",
              "      <td>0.365</td>\n",
              "      <td>0.095</td>\n",
              "      <td>0.5140</td>\n",
              "      <td>0.2245</td>\n",
              "      <td>0.1010</td>\n",
              "      <td>0.150</td>\n",
              "      <td>15</td>\n",
              "    </tr>\n",
              "    <tr>\n",
              "      <th>1</th>\n",
              "      <td>M</td>\n",
              "      <td>0.350</td>\n",
              "      <td>0.265</td>\n",
              "      <td>0.090</td>\n",
              "      <td>0.2255</td>\n",
              "      <td>0.0995</td>\n",
              "      <td>0.0485</td>\n",
              "      <td>0.070</td>\n",
              "      <td>7</td>\n",
              "    </tr>\n",
              "    <tr>\n",
              "      <th>2</th>\n",
              "      <td>F</td>\n",
              "      <td>0.530</td>\n",
              "      <td>0.420</td>\n",
              "      <td>0.135</td>\n",
              "      <td>0.6770</td>\n",
              "      <td>0.2565</td>\n",
              "      <td>0.1415</td>\n",
              "      <td>0.210</td>\n",
              "      <td>9</td>\n",
              "    </tr>\n",
              "    <tr>\n",
              "      <th>3</th>\n",
              "      <td>M</td>\n",
              "      <td>0.440</td>\n",
              "      <td>0.365</td>\n",
              "      <td>0.125</td>\n",
              "      <td>0.5160</td>\n",
              "      <td>0.2155</td>\n",
              "      <td>0.1140</td>\n",
              "      <td>0.155</td>\n",
              "      <td>10</td>\n",
              "    </tr>\n",
              "    <tr>\n",
              "      <th>4</th>\n",
              "      <td>I</td>\n",
              "      <td>0.330</td>\n",
              "      <td>0.255</td>\n",
              "      <td>0.080</td>\n",
              "      <td>0.2050</td>\n",
              "      <td>0.0895</td>\n",
              "      <td>0.0395</td>\n",
              "      <td>0.055</td>\n",
              "      <td>7</td>\n",
              "    </tr>\n",
              "  </tbody>\n",
              "</table>\n",
              "</div>"
            ],
            "text/plain": [
              "  Sex  Length  Diameter  Height  Whole weight  Shucked weight  Viscera weight  \\\n",
              "0   M   0.455     0.365   0.095        0.5140          0.2245          0.1010   \n",
              "1   M   0.350     0.265   0.090        0.2255          0.0995          0.0485   \n",
              "2   F   0.530     0.420   0.135        0.6770          0.2565          0.1415   \n",
              "3   M   0.440     0.365   0.125        0.5160          0.2155          0.1140   \n",
              "4   I   0.330     0.255   0.080        0.2050          0.0895          0.0395   \n",
              "\n",
              "   Shell weight  Rings  \n",
              "0         0.150     15  \n",
              "1         0.070      7  \n",
              "2         0.210      9  \n",
              "3         0.155     10  \n",
              "4         0.055      7  "
            ]
          },
          "execution_count": 5,
          "metadata": {},
          "output_type": "execute_result"
        }
      ],
      "source": [
        "data=pd.read_csv(\"abalone.csv\")\n",
        "data.head()"
      ]
    },
    {
      "cell_type": "code",
      "execution_count": null,
      "id": "b632456c",
      "metadata": {
        "id": "b632456c",
        "outputId": "664c299b-bb2f-453e-8a2c-85b4f3fc41c5"
      },
      "outputs": [
        {
          "data": {
            "text/plain": [
              "(4177, 9)"
            ]
          },
          "execution_count": 6,
          "metadata": {},
          "output_type": "execute_result"
        }
      ],
      "source": [
        "data.shape"
      ]
    },
    {
      "cell_type": "code",
      "execution_count": null,
      "id": "7c76a973",
      "metadata": {
        "id": "7c76a973",
        "outputId": "b1582ff0-76c6-4193-b657-db30f5c86539"
      },
      "outputs": [
        {
          "data": {
            "text/html": [
              "<div>\n",
              "<style scoped>\n",
              "    .dataframe tbody tr th:only-of-type {\n",
              "        vertical-align: middle;\n",
              "    }\n",
              "\n",
              "    .dataframe tbody tr th {\n",
              "        vertical-align: top;\n",
              "    }\n",
              "\n",
              "    .dataframe thead th {\n",
              "        text-align: right;\n",
              "    }\n",
              "</style>\n",
              "<table border=\"1\" class=\"dataframe\">\n",
              "  <thead>\n",
              "    <tr style=\"text-align: right;\">\n",
              "      <th></th>\n",
              "      <th>Sex</th>\n",
              "      <th>Length</th>\n",
              "      <th>Diameter</th>\n",
              "      <th>Height</th>\n",
              "      <th>Whole_weight</th>\n",
              "      <th>Shucked_weight</th>\n",
              "      <th>Viscera_weight</th>\n",
              "      <th>Shell_weight</th>\n",
              "      <th>Age</th>\n",
              "    </tr>\n",
              "  </thead>\n",
              "  <tbody>\n",
              "    <tr>\n",
              "      <th>0</th>\n",
              "      <td>M</td>\n",
              "      <td>0.455</td>\n",
              "      <td>0.365</td>\n",
              "      <td>0.095</td>\n",
              "      <td>0.5140</td>\n",
              "      <td>0.2245</td>\n",
              "      <td>0.1010</td>\n",
              "      <td>0.150</td>\n",
              "      <td>16.5</td>\n",
              "    </tr>\n",
              "    <tr>\n",
              "      <th>1</th>\n",
              "      <td>M</td>\n",
              "      <td>0.350</td>\n",
              "      <td>0.265</td>\n",
              "      <td>0.090</td>\n",
              "      <td>0.2255</td>\n",
              "      <td>0.0995</td>\n",
              "      <td>0.0485</td>\n",
              "      <td>0.070</td>\n",
              "      <td>8.5</td>\n",
              "    </tr>\n",
              "    <tr>\n",
              "      <th>2</th>\n",
              "      <td>F</td>\n",
              "      <td>0.530</td>\n",
              "      <td>0.420</td>\n",
              "      <td>0.135</td>\n",
              "      <td>0.6770</td>\n",
              "      <td>0.2565</td>\n",
              "      <td>0.1415</td>\n",
              "      <td>0.210</td>\n",
              "      <td>10.5</td>\n",
              "    </tr>\n",
              "    <tr>\n",
              "      <th>3</th>\n",
              "      <td>M</td>\n",
              "      <td>0.440</td>\n",
              "      <td>0.365</td>\n",
              "      <td>0.125</td>\n",
              "      <td>0.5160</td>\n",
              "      <td>0.2155</td>\n",
              "      <td>0.1140</td>\n",
              "      <td>0.155</td>\n",
              "      <td>11.5</td>\n",
              "    </tr>\n",
              "    <tr>\n",
              "      <th>4</th>\n",
              "      <td>I</td>\n",
              "      <td>0.330</td>\n",
              "      <td>0.255</td>\n",
              "      <td>0.080</td>\n",
              "      <td>0.2050</td>\n",
              "      <td>0.0895</td>\n",
              "      <td>0.0395</td>\n",
              "      <td>0.055</td>\n",
              "      <td>8.5</td>\n",
              "    </tr>\n",
              "  </tbody>\n",
              "</table>\n",
              "</div>"
            ],
            "text/plain": [
              "  Sex  Length  Diameter  Height  Whole_weight  Shucked_weight  Viscera_weight  \\\n",
              "0   M   0.455     0.365   0.095        0.5140          0.2245          0.1010   \n",
              "1   M   0.350     0.265   0.090        0.2255          0.0995          0.0485   \n",
              "2   F   0.530     0.420   0.135        0.6770          0.2565          0.1415   \n",
              "3   M   0.440     0.365   0.125        0.5160          0.2155          0.1140   \n",
              "4   I   0.330     0.255   0.080        0.2050          0.0895          0.0395   \n",
              "\n",
              "   Shell_weight   Age  \n",
              "0         0.150  16.5  \n",
              "1         0.070   8.5  \n",
              "2         0.210  10.5  \n",
              "3         0.155  11.5  \n",
              "4         0.055   8.5  "
            ]
          },
          "execution_count": 7,
          "metadata": {},
          "output_type": "execute_result"
        }
      ],
      "source": [
        "Age=1.5+data.Rings\n",
        "data[\"Age\"]=Age\n",
        "data=data.rename(columns = {'Whole weight':'Whole_weight','Shucked weight': 'Shucked_weight','Viscera weight': 'Viscera_weight',\n",
        "                            'Shell weight': 'Shell_weight'})\n",
        "data=data.drop(columns=[\"Rings\"],axis=1)\n",
        "data.head()"
      ]
    },
    {
      "cell_type": "markdown",
      "id": "82bf7c07",
      "metadata": {
        "id": "82bf7c07"
      },
      "source": [
        "Perform Visualizations"
      ]
    },
    {
      "cell_type": "markdown",
      "id": "624338f0",
      "metadata": {
        "id": "624338f0"
      },
      "source": [
        "(i)Univariate Analysis\n",
        "\n"
      ]
    },
    {
      "cell_type": "code",
      "execution_count": null,
      "id": "24fba615",
      "metadata": {
        "id": "24fba615",
        "outputId": "3ef81c62-239b-4370-9f67-b67cf98ed47c"
      },
      "outputs": [
        {
          "data": {
            "text/plain": [
              "<seaborn.axisgrid.FacetGrid at 0xa601808>"
            ]
          },
          "execution_count": 8,
          "metadata": {},
          "output_type": "execute_result"
        },
        {
          "data": {
            "image/png": "[encoded data removed]",
            "text/plain": [
              "<Figure size 360x360 with 1 Axes>"
            ]
          },
          "metadata": {
            "needs_background": "light"
          },
          "output_type": "display_data"
        }
      ],
      "source": [
        "sns.displot(data[\"Age\"], color='darkorange')"
      ]
    },
    {
      "cell_type": "code",
      "execution_count": null,
      "id": "bf345fa4",
      "metadata": {
        "id": "bf345fa4",
        "outputId": "42ce4d65-bd0f-497c-bc2c-f07925d115ff"
      },
      "outputs": [
        {
          "data": {
            "text/plain": [
              "<AxesSubplot:xlabel='Count', ylabel='Age'>"
            ]
          },
          "execution_count": 9,
          "metadata": {},
          "output_type": "execute_result"
        },
        {
          "data": {
            "image/png": "[encoded data removed]",
            "text/plain": [
              "<Figure size 432x288 with 1 Axes>"
            ]
          },
          "metadata": {
            "needs_background": "light"
          },
          "output_type": "display_data"
        }
      ],
      "source": [
        "sns.histplot(y=data.Age,color='pink') "
      ]
    },
    {
      "cell_type": "code",
      "execution_count": null,
      "id": "c85aad01",
      "metadata": {
        "id": "c85aad01",
        "outputId": "b8e28400-a5e2-4134-ee94-01801dce2a60"
      },
      "outputs": [
        {
          "data": {
            "text/plain": [
              "<AxesSubplot:xlabel='Age', ylabel='Count'>"
            ]
          },
          "execution_count": 10,
          "metadata": {},
          "output_type": "execute_result"
        },
        {
          "data": {
            "image/png": "[encoded data removed]",
            "text/plain": [
              "<Figure size 432x288 with 1 Axes>"
            ]
          },
          "metadata": {
            "needs_background": "light"
          },
          "output_type": "display_data"
        }
      ],
      "source": [
        "sns.histplot(x=data.Age,color='green') "
      ]
    },
    {
      "cell_type": "code",
      "execution_count": null,
      "id": "38336ae4",
      "metadata": {
        "id": "38336ae4",
        "outputId": "a06900f6-2ae2-4847-9f37-bac71358cc24"
      },
      "outputs": [
        {
          "data": {
            "text/plain": [
              "<AxesSubplot:xlabel='Age'>"
            ]
          },
          "execution_count": 11,
          "metadata": {},
          "output_type": "execute_result"
        },
        {
          "data": {
            "image/png": "[encoded data removed]",
            "text/plain": [
              "<Figure size 432x288 with 1 Axes>"
            ]
          },
          "metadata": {
            "needs_background": "light"
          },
          "output_type": "display_data"
        }
      ],
      "source": [
        "sns.boxplot(x=data.Age,color='pink') "
      ]
    },
    {
      "cell_type": "code",
      "execution_count": null,
      "id": "24714143",
      "metadata": {
        "id": "24714143",
        "outputId": "6f8d470b-da20-4b15-cdeb-734b238ec4de"
      },
      "outputs": [
        {
          "data": {
            "text/plain": [
              "<AxesSubplot:xlabel='Age', ylabel='count'>"
            ]
          },
          "execution_count": 12,
          "metadata": {},
          "output_type": "execute_result"
        },
        {
          "data": {
            "image/png": "[encoded data removed]",
            "text/plain": [
              "<Figure size 432x288 with 1 Axes>"
            ]
          },
          "metadata": {
            "needs_background": "light"
          },
          "output_type": "display_data"
        }
      ],
      "source": [
        "sns.countplot(x=data.Age) "
      ]
    },
    {
      "cell_type": "markdown",
      "id": "90e08bff",
      "metadata": {
        "id": "90e08bff"
      },
      "source": [
        "(ii) Bi-Variate Analysis"
      ]
    },
    {
      "cell_type": "code",
      "execution_count": null,
      "id": "3307ef44",
      "metadata": {
        "id": "3307ef44",
        "outputId": "b2d199ed-b54d-4467-d324-31682ecfc287"
      },
      "outputs": [
        {
          "data": {
            "text/plain": [
              "<AxesSubplot:xlabel='Height', ylabel='Age'>"
            ]
          },
          "execution_count": 13,
          "metadata": {},
          "output_type": "execute_result"
        },
        {
          "data": {
            "image/png": "[encoded data removed]",
            "text/plain": [
              "<Figure size 432x288 with 1 Axes>"
            ]
          },
          "metadata": {
            "needs_background": "light"
          },
          "output_type": "display_data"
        }
      ],
      "source": [
        "sns.barplot(x=data.Height,y=data.Age)"
      ]
    },
    {
      "cell_type": "code",
      "execution_count": null,
      "id": "1757a127",
      "metadata": {
        "id": "1757a127",
        "outputId": "0e3fac02-7ba2-469a-f241-640266940d6f"
      },
      "outputs": [
        {
          "data": {
            "text/plain": [
              "<AxesSubplot:xlabel='Age', ylabel='Height'>"
            ]
          },
          "execution_count": 14,
          "metadata": {},
          "output_type": "execute_result"
        },
        {
          "data": {
            "image/png": "[encoded data removed]",
            "text/plain": [
              "<Figure size 432x288 with 1 Axes>"
            ]
          },
          "metadata": {
            "needs_background": "light"
          },
          "output_type": "display_data"
        }
      ],
      "source": [
        "sns.lineplot(x=data.Age,y=data.Height, color='purple')"
      ]
    },
    {
      "cell_type": "code",
      "execution_count": null,
      "id": "80712c01",
      "metadata": {
        "id": "80712c01",
        "outputId": "16235368-2873-4d0b-8aa0-ae254501ea4a"
      },
      "outputs": [
        {
          "data": {
            "text/plain": [
              "<AxesSubplot:xlabel='Age', ylabel='Height'>"
            ]
          },
          "execution_count": 15,
          "metadata": {},
          "output_type": "execute_result"
        },
        {
          "data": {
            "image/png": "[encoded data removed]",
            "text/plain": [
              "<Figure size 432x288 with 1 Axes>"
            ]
          },
          "metadata": {
            "needs_background": "light"
          },
          "output_type": "display_data"
        }
      ],
      "source": [
        "sns.scatterplot(x=data.Age,y=data.Height,color='green')"
      ]
    },
    {
      "cell_type": "code",
      "execution_count": null,
      "id": "728ecd0f",
      "metadata": {
        "id": "728ecd0f",
        "outputId": "d0f3d56d-caa9-4654-c1ee-fe4d8d1f12cb"
      },
      "outputs": [
        {
          "data": {
            "text/plain": [
              "<AxesSubplot:xlabel='Age', ylabel='Height'>"
            ]
          },
          "execution_count": 16,
          "metadata": {},
          "output_type": "execute_result"
        },
        {
          "data": {
            "image/png": "[encoded data removed]",
            "text/plain": [
              "<Figure size 432x288 with 1 Axes>"
            ]
          },
          "metadata": {
            "needs_background": "light"
          },
          "output_type": "display_data"
        }
      ],
      "source": [
        "sns.pointplot(x=data.Age, y=data.Height, color=\"blue\")"
      ]
    },
    {
      "cell_type": "code",
      "execution_count": null,
      "id": "c0f35b6f",
      "metadata": {
        "id": "c0f35b6f",
        "outputId": "c55cb5cb-ac97-48a0-d05e-4e38cafed184"
      },
      "outputs": [
        {
          "data": {
            "text/plain": [
              "<AxesSubplot:xlabel='Age', ylabel='Height'>"
            ]
          },
          "execution_count": 17,
          "metadata": {},
          "output_type": "execute_result"
        },
        {
          "data": {
            "image/png": "[encoded data removed]",
            "text/plain": [
              "<Figure size 432x288 with 1 Axes>"
            ]
          },
          "metadata": {
            "needs_background": "light"
          },
          "output_type": "display_data"
        }
      ],
      "source": [
        "sns.regplot(x=data.Age,y=data.Height,color='orange')"
      ]
    },
    {
      "cell_type": "markdown",
      "id": "c886178f",
      "metadata": {
        "id": "c886178f"
      },
      "source": [
        "(iii) Multi-Variate Analysis"
      ]
    },
    {
      "cell_type": "code",
      "execution_count": null,
      "id": "305e2419",
      "metadata": {
        "id": "305e2419",
        "outputId": "0a3cdb31-9762-4589-9ddf-9e2de26f3460"
      },
      "outputs": [
        {
          "data": {
            "text/plain": [
              "<seaborn.axisgrid.PairGrid at 0xa9226d0>"
            ]
          },
          "execution_count": 18,
          "metadata": {},
          "output_type": "execute_result"
        },
        {
          "data": {
            "image/png": "[encoded data removed]",
            "text/plain": [
              "<Figure size 900x900 with 30 Axes>"
            ]
          },
          "metadata": {
            "needs_background": "light"
          },
          "output_type": "display_data"
        }
      ],
      "source": [
        "sns.pairplot(data=data[[\"Height\",\"Length\",\"Diameter\",\"Age\",\"Whole_weight\"]])"
      ]
    },
    {
      "cell_type": "code",
      "execution_count": null,
      "id": "40203e8f",
      "metadata": {
        "id": "40203e8f"
      },
      "outputs": [],
      "source": []
    },
    {
      "cell_type": "markdown",
      "id": "1f26848e",
      "metadata": {
        "id": "1f26848e"
      },
      "source": [
        "Perform descriptive statistics on the dataset"
      ]
    },
    {
      "cell_type": "code",
      "execution_count": null,
      "id": "6e1855eb",
      "metadata": {
        "id": "6e1855eb",
        "outputId": "481bba78-e02d-4cea-f3b5-5af3e28a751c"
      },
      "outputs": [
        {
          "data": {
            "text/html": [
              "<div>\n",
              "<style scoped>\n",
              "    .dataframe tbody tr th:only-of-type {\n",
              "        vertical-align: middle;\n",
              "    }\n",
              "\n",
              "    .dataframe tbody tr th {\n",
              "        vertical-align: top;\n",
              "    }\n",
              "\n",
              "    .dataframe thead th {\n",
              "        text-align: right;\n",
              "    }\n",
              "</style>\n",
              "<table border=\"1\" class=\"dataframe\">\n",
              "  <thead>\n",
              "    <tr style=\"text-align: right;\">\n",
              "      <th></th>\n",
              "      <th>Sex</th>\n",
              "      <th>Length</th>\n",
              "      <th>Diameter</th>\n",
              "      <th>Height</th>\n",
              "      <th>Whole_weight</th>\n",
              "      <th>Shucked_weight</th>\n",
              "      <th>Viscera_weight</th>\n",
              "      <th>Shell_weight</th>\n",
              "      <th>Age</th>\n",
              "    </tr>\n",
              "  </thead>\n",
              "  <tbody>\n",
              "    <tr>\n",
              "      <th>count</th>\n",
              "      <td>4177</td>\n",
              "      <td>4177.000000</td>\n",
              "      <td>4177.000000</td>\n",
              "      <td>4177.000000</td>\n",
              "      <td>4177.000000</td>\n",
              "      <td>4177.000000</td>\n",
              "      <td>4177.000000</td>\n",
              "      <td>4177.000000</td>\n",
              "      <td>4177.000000</td>\n",
              "    </tr>\n",
              "    <tr>\n",
              "      <th>unique</th>\n",
              "      <td>3</td>\n",
              "      <td>NaN</td>\n",
              "      <td>NaN</td>\n",
              "      <td>NaN</td>\n",
              "      <td>NaN</td>\n",
              "      <td>NaN</td>\n",
              "      <td>NaN</td>\n",
              "      <td>NaN</td>\n",
              "      <td>NaN</td>\n",
              "    </tr>\n",
              "    <tr>\n",
              "      <th>top</th>\n",
              "      <td>M</td>\n",
              "      <td>NaN</td>\n",
              "      <td>NaN</td>\n",
              "      <td>NaN</td>\n",
              "      <td>NaN</td>\n",
              "      <td>NaN</td>\n",
              "      <td>NaN</td>\n",
              "      <td>NaN</td>\n",
              "      <td>NaN</td>\n",
              "    </tr>\n",
              "    <tr>\n",
              "      <th>freq</th>\n",
              "      <td>1528</td>\n",
              "      <td>NaN</td>\n",
              "      <td>NaN</td>\n",
              "      <td>NaN</td>\n",
              "      <td>NaN</td>\n",
              "      <td>NaN</td>\n",
              "      <td>NaN</td>\n",
              "      <td>NaN</td>\n",
              "      <td>NaN</td>\n",
              "    </tr>\n",
              "    <tr>\n",
              "      <th>mean</th>\n",
              "      <td>NaN</td>\n",
              "      <td>0.523992</td>\n",
              "      <td>0.407881</td>\n",
              "      <td>0.139516</td>\n",
              "      <td>0.828742</td>\n",
              "      <td>0.359367</td>\n",
              "      <td>0.180594</td>\n",
              "      <td>0.238831</td>\n",
              "      <td>11.433684</td>\n",
              "    </tr>\n",
              "    <tr>\n",
              "      <th>std</th>\n",
              "      <td>NaN</td>\n",
              "      <td>0.120093</td>\n",
              "      <td>0.099240</td>\n",
              "      <td>0.041827</td>\n",
              "      <td>0.490389</td>\n",
              "      <td>0.221963</td>\n",
              "      <td>0.109614</td>\n",
              "      <td>0.139203</td>\n",
              "      <td>3.224169</td>\n",
              "    </tr>\n",
              "    <tr>\n",
              "      <th>min</th>\n",
              "      <td>NaN</td>\n",
              "      <td>0.075000</td>\n",
              "      <td>0.055000</td>\n",
              "      <td>0.000000</td>\n",
              "      <td>0.002000</td>\n",
              "      <td>0.001000</td>\n",
              "      <td>0.000500</td>\n",
              "      <td>0.001500</td>\n",
              "      <td>2.500000</td>\n",
              "    </tr>\n",
              "    <tr>\n",
              "      <th>25%</th>\n",
              "      <td>NaN</td>\n",
              "      <td>0.450000</td>\n",
              "      <td>0.350000</td>\n",
              "      <td>0.115000</td>\n",
              "      <td>0.441500</td>\n",
              "      <td>0.186000</td>\n",
              "      <td>0.093500</td>\n",
              "      <td>0.130000</td>\n",
              "      <td>9.500000</td>\n",
              "    </tr>\n",
              "    <tr>\n",
              "      <th>50%</th>\n",
              "      <td>NaN</td>\n",
              "      <td>0.545000</td>\n",
              "      <td>0.425000</td>\n",
              "      <td>0.140000</td>\n",
              "      <td>0.799500</td>\n",
              "      <td>0.336000</td>\n",
              "      <td>0.171000</td>\n",
              "      <td>0.234000</td>\n",
              "      <td>10.500000</td>\n",
              "    </tr>\n",
              "    <tr>\n",
              "      <th>75%</th>\n",
              "      <td>NaN</td>\n",
              "      <td>0.615000</td>\n",
              "      <td>0.480000</td>\n",
              "      <td>0.165000</td>\n",
              "      <td>1.153000</td>\n",
              "      <td>0.502000</td>\n",
              "      <td>0.253000</td>\n",
              "      <td>0.329000</td>\n",
              "      <td>12.500000</td>\n",
              "    </tr>\n",
              "    <tr>\n",
              "      <th>max</th>\n",
              "      <td>NaN</td>\n",
              "      <td>0.815000</td>\n",
              "      <td>0.650000</td>\n",
              "      <td>1.130000</td>\n",
              "      <td>2.825500</td>\n",
              "      <td>1.488000</td>\n",
              "      <td>0.760000</td>\n",
              "      <td>1.005000</td>\n",
              "      <td>30.500000</td>\n",
              "    </tr>\n",
              "  </tbody>\n",
              "</table>\n",
              "</div>"
            ],
            "text/plain": [
              "         Sex       Length     Diameter       Height  Whole_weight  \\\n",
              "count   4177  4177.000000  4177.000000  4177.000000   4177.000000   \n",
              "unique     3          NaN          NaN          NaN           NaN   \n",
              "top        M          NaN          NaN          NaN           NaN   \n",
              "freq    1528          NaN          NaN          NaN           NaN   \n",
              "mean     NaN     0.523992     0.407881     0.139516      0.828742   \n",
              "std      NaN     0.120093     0.099240     0.041827      0.490389   \n",
              "min      NaN     0.075000     0.055000     0.000000      0.002000   \n",
              "25%      NaN     0.450000     0.350000     0.115000      0.441500   \n",
              "50%      NaN     0.545000     0.425000     0.140000      0.799500   \n",
              "75%      NaN     0.615000     0.480000     0.165000      1.153000   \n",
              "max      NaN     0.815000     0.650000     1.130000      2.825500   \n",
              "\n",
              "        Shucked_weight  Viscera_weight  Shell_weight          Age  \n",
              "count      4177.000000     4177.000000   4177.000000  4177.000000  \n",
              "unique             NaN             NaN           NaN          NaN  \n",
              "top                NaN             NaN           NaN          NaN  \n",
              "freq               NaN             NaN           NaN          NaN  \n",
              "mean          0.359367        0.180594      0.238831    11.433684  \n",
              "std           0.221963        0.109614      0.139203     3.224169  \n",
              "min           0.001000        0.000500      0.001500     2.500000  \n",
              "25%           0.186000        0.093500      0.130000     9.500000  \n",
              "50%           0.336000        0.171000      0.234000    10.500000  \n",
              "75%           0.502000        0.253000      0.329000    12.500000  \n",
              "max           1.488000        0.760000      1.005000    30.500000  "
            ]
          },
          "execution_count": 23,
          "metadata": {},
          "output_type": "execute_result"
        }
      ],
      "source": [
        "data.describe(include='all')"
      ]
    },
    {
      "cell_type": "markdown",
      "id": "de26bc9e",
      "metadata": {
        "id": "de26bc9e"
      },
      "source": [
        "Check for Missing values and deal with them"
      ]
    },
    {
      "cell_type": "code",
      "execution_count": null,
      "id": "12bc8b01",
      "metadata": {
        "id": "12bc8b01",
        "outputId": "ea04bf48-6012-4dbd-993e-ce2a6e5474f8"
      },
      "outputs": [
        {
          "data": {
            "text/plain": [
              "Sex               0\n",
              "Length            0\n",
              "Diameter          0\n",
              "Height            0\n",
              "Whole_weight      0\n",
              "Shucked_weight    0\n",
              "Viscera_weight    0\n",
              "Shell_weight      0\n",
              "Age               0\n",
              "dtype: int64"
            ]
          },
          "execution_count": 24,
          "metadata": {},
          "output_type": "execute_result"
        }
      ],
      "source": [
        "data.isnull().sum()"
      ]
    },
    {
      "cell_type": "markdown",
      "id": "35c5f029",
      "metadata": {
        "id": "35c5f029"
      },
      "source": [
        "Find the outliers and replace them outliers"
      ]
    },
    {
      "cell_type": "code",
      "execution_count": null,
      "id": "793cba28",
      "metadata": {
        "id": "793cba28",
        "outputId": "fccbc21a-c555-445b-9a57-f7c262d833ba"
      },
      "outputs": [
        {
          "data": {
            "text/html": [
              "<div>\n",
              "<style scoped>\n",
              "    .dataframe tbody tr th:only-of-type {\n",
              "        vertical-align: middle;\n",
              "    }\n",
              "\n",
              "    .dataframe tbody tr th {\n",
              "        vertical-align: top;\n",
              "    }\n",
              "\n",
              "    .dataframe thead th {\n",
              "        text-align: right;\n",
              "    }\n",
              "</style>\n",
              "<table border=\"1\" class=\"dataframe\">\n",
              "  <thead>\n",
              "    <tr style=\"text-align: right;\">\n",
              "      <th></th>\n",
              "      <th>Length</th>\n",
              "      <th>Diameter</th>\n",
              "      <th>Height</th>\n",
              "      <th>Whole_weight</th>\n",
              "      <th>Shucked_weight</th>\n",
              "      <th>Viscera_weight</th>\n",
              "      <th>Shell_weight</th>\n",
              "      <th>Age</th>\n",
              "    </tr>\n",
              "  </thead>\n",
              "  <tbody>\n",
              "    <tr>\n",
              "      <th>0.25</th>\n",
              "      <td>0.450</td>\n",
              "      <td>0.35</td>\n",
              "      <td>0.115</td>\n",
              "      <td>0.4415</td>\n",
              "      <td>0.186</td>\n",
              "      <td>0.0935</td>\n",
              "      <td>0.130</td>\n",
              "      <td>9.5</td>\n",
              "    </tr>\n",
              "    <tr>\n",
              "      <th>0.75</th>\n",
              "      <td>0.615</td>\n",
              "      <td>0.48</td>\n",
              "      <td>0.165</td>\n",
              "      <td>1.1530</td>\n",
              "      <td>0.502</td>\n",
              "      <td>0.2530</td>\n",
              "      <td>0.329</td>\n",
              "      <td>12.5</td>\n",
              "    </tr>\n",
              "  </tbody>\n",
              "</table>\n",
              "</div>"
            ],
            "text/plain": [
              "      Length  Diameter  Height  Whole_weight  Shucked_weight  Viscera_weight  \\\n",
              "0.25   0.450      0.35   0.115        0.4415           0.186          0.0935   \n",
              "0.75   0.615      0.48   0.165        1.1530           0.502          0.2530   \n",
              "\n",
              "      Shell_weight   Age  \n",
              "0.25         0.130   9.5  \n",
              "0.75         0.329  12.5  "
            ]
          },
          "execution_count": 25,
          "metadata": {},
          "output_type": "execute_result"
        }
      ],
      "source": [
        "outliers=data.quantile(q=(0.25,0.75))\n",
        "outliers"
      ]
    },
    {
      "cell_type": "code",
      "execution_count": null,
      "id": "04d67eff",
      "metadata": {
        "id": "04d67eff",
        "outputId": "7cb41635-4406-4d59-8adc-5b37de8e7d84"
      },
      "outputs": [
        {
          "data": {
            "text/plain": [
              "Length             0.5450\n",
              "Diameter           0.4250\n",
              "Height             0.1400\n",
              "Whole_weight       0.7995\n",
              "Shucked_weight     0.3360\n",
              "Viscera_weight     0.1710\n",
              "Shell_weight       0.2340\n",
              "Age               10.5000\n",
              "dtype: float64"
            ]
          },
          "execution_count": 26,
          "metadata": {},
          "output_type": "execute_result"
        }
      ],
      "source": [
        "a = data.Age.quantile(0.25)\n",
        "b = data.Age.quantile(0.75)\n",
        "c = b - a\n",
        "lower_limit = a - 1.5 * c\n",
        "data.median(numeric_only=True)"
      ]
    },
    {
      "cell_type": "code",
      "execution_count": null,
      "id": "21f38521",
      "metadata": {
        "id": "21f38521",
        "outputId": "90e04a16-3ae5-4ee9-bc30-dc4e2d59e653"
      },
      "outputs": [
        {
          "data": {
            "text/plain": [
              "<AxesSubplot:xlabel='Age'>"
            ]
          },
          "execution_count": 27,
          "metadata": {},
          "output_type": "execute_result"
        },
        {
          "data": {
            "image/png": "[encoded data removed]",
            "text/plain": [
              "<Figure size 432x288 with 1 Axes>"
            ]
          },
          "metadata": {
            "needs_background": "light"
          },
          "output_type": "display_data"
        }
      ],
      "source": [
        "data['Age'] = np.where(data['Age'] < lower_limit, 7, data['Age'])\n",
        "sns.boxplot(x=data.Age,showfliers = False)"
      ]
    },
    {
      "cell_type": "markdown",
      "id": "00dcbb12",
      "metadata": {
        "id": "00dcbb12"
      },
      "source": [
        "Check for Categorical columns and perform encoding"
      ]
    },
    {
      "cell_type": "code",
      "execution_count": null,
      "id": "15f9d525",
      "metadata": {
        "id": "15f9d525",
        "outputId": "fa837d25-2fc1-4c24-d7a6-474b8e0a0e46"
      },
      "outputs": [
        {
          "data": {
            "text/html": [
              "<div>\n",
              "<style scoped>\n",
              "    .dataframe tbody tr th:only-of-type {\n",
              "        vertical-align: middle;\n",
              "    }\n",
              "\n",
              "    .dataframe tbody tr th {\n",
              "        vertical-align: top;\n",
              "    }\n",
              "\n",
              "    .dataframe thead th {\n",
              "        text-align: right;\n",
              "    }\n",
              "</style>\n",
              "<table border=\"1\" class=\"dataframe\">\n",
              "  <thead>\n",
              "    <tr style=\"text-align: right;\">\n",
              "      <th></th>\n",
              "      <th>Sex</th>\n",
              "      <th>Length</th>\n",
              "      <th>Diameter</th>\n",
              "      <th>Height</th>\n",
              "      <th>Whole_weight</th>\n",
              "      <th>Shucked_weight</th>\n",
              "      <th>Viscera_weight</th>\n",
              "      <th>Shell_weight</th>\n",
              "      <th>Age</th>\n",
              "    </tr>\n",
              "  </thead>\n",
              "  <tbody>\n",
              "    <tr>\n",
              "      <th>0</th>\n",
              "      <td>M</td>\n",
              "      <td>0.455</td>\n",
              "      <td>0.365</td>\n",
              "      <td>0.095</td>\n",
              "      <td>0.5140</td>\n",
              "      <td>0.2245</td>\n",
              "      <td>0.1010</td>\n",
              "      <td>0.150</td>\n",
              "      <td>16.5</td>\n",
              "    </tr>\n",
              "    <tr>\n",
              "      <th>1</th>\n",
              "      <td>M</td>\n",
              "      <td>0.350</td>\n",
              "      <td>0.265</td>\n",
              "      <td>0.090</td>\n",
              "      <td>0.2255</td>\n",
              "      <td>0.0995</td>\n",
              "      <td>0.0485</td>\n",
              "      <td>0.070</td>\n",
              "      <td>8.5</td>\n",
              "    </tr>\n",
              "    <tr>\n",
              "      <th>2</th>\n",
              "      <td>F</td>\n",
              "      <td>0.530</td>\n",
              "      <td>0.420</td>\n",
              "      <td>0.135</td>\n",
              "      <td>0.6770</td>\n",
              "      <td>0.2565</td>\n",
              "      <td>0.1415</td>\n",
              "      <td>0.210</td>\n",
              "      <td>10.5</td>\n",
              "    </tr>\n",
              "    <tr>\n",
              "      <th>3</th>\n",
              "      <td>M</td>\n",
              "      <td>0.440</td>\n",
              "      <td>0.365</td>\n",
              "      <td>0.125</td>\n",
              "      <td>0.5160</td>\n",
              "      <td>0.2155</td>\n",
              "      <td>0.1140</td>\n",
              "      <td>0.155</td>\n",
              "      <td>11.5</td>\n",
              "    </tr>\n",
              "    <tr>\n",
              "      <th>4</th>\n",
              "      <td>I</td>\n",
              "      <td>0.330</td>\n",
              "      <td>0.255</td>\n",
              "      <td>0.080</td>\n",
              "      <td>0.2050</td>\n",
              "      <td>0.0895</td>\n",
              "      <td>0.0395</td>\n",
              "      <td>0.055</td>\n",
              "      <td>8.5</td>\n",
              "    </tr>\n",
              "  </tbody>\n",
              "</table>\n",
              "</div>"
            ],
            "text/plain": [
              "  Sex  Length  Diameter  Height  Whole_weight  Shucked_weight  Viscera_weight  \\\n",
              "0   M   0.455     0.365   0.095        0.5140          0.2245          0.1010   \n",
              "1   M   0.350     0.265   0.090        0.2255          0.0995          0.0485   \n",
              "2   F   0.530     0.420   0.135        0.6770          0.2565          0.1415   \n",
              "3   M   0.440     0.365   0.125        0.5160          0.2155          0.1140   \n",
              "4   I   0.330     0.255   0.080        0.2050          0.0895          0.0395   \n",
              "\n",
              "   Shell_weight   Age  \n",
              "0         0.150  16.5  \n",
              "1         0.070   8.5  \n",
              "2         0.210  10.5  \n",
              "3         0.155  11.5  \n",
              "4         0.055   8.5  "
            ]
          },
          "execution_count": 28,
          "metadata": {},
          "output_type": "execute_result"
        }
      ],
      "source": [
        "data.head()"
      ]
    },
    {
      "cell_type": "code",
      "execution_count": null,
      "id": "68b6c829",
      "metadata": {
        "id": "68b6c829",
        "outputId": "d06b2be9-962e-48f6-b090-57e199dd03bb"
      },
      "outputs": [
        {
          "data": {
            "text/html": [
              "<div>\n",
              "<style scoped>\n",
              "    .dataframe tbody tr th:only-of-type {\n",
              "        vertical-align: middle;\n",
              "    }\n",
              "\n",
              "    .dataframe tbody tr th {\n",
              "        vertical-align: top;\n",
              "    }\n",
              "\n",
              "    .dataframe thead th {\n",
              "        text-align: right;\n",
              "    }\n",
              "</style>\n",
              "<table border=\"1\" class=\"dataframe\">\n",
              "  <thead>\n",
              "    <tr style=\"text-align: right;\">\n",
              "      <th></th>\n",
              "      <th>Sex</th>\n",
              "      <th>Length</th>\n",
              "      <th>Diameter</th>\n",
              "      <th>Height</th>\n",
              "      <th>Whole_weight</th>\n",
              "      <th>Shucked_weight</th>\n",
              "      <th>Viscera_weight</th>\n",
              "      <th>Shell_weight</th>\n",
              "      <th>Age</th>\n",
              "    </tr>\n",
              "  </thead>\n",
              "  <tbody>\n",
              "    <tr>\n",
              "      <th>0</th>\n",
              "      <td>2</td>\n",
              "      <td>0.455</td>\n",
              "      <td>0.365</td>\n",
              "      <td>0.095</td>\n",
              "      <td>0.5140</td>\n",
              "      <td>0.2245</td>\n",
              "      <td>0.1010</td>\n",
              "      <td>0.150</td>\n",
              "      <td>16.5</td>\n",
              "    </tr>\n",
              "    <tr>\n",
              "      <th>1</th>\n",
              "      <td>2</td>\n",
              "      <td>0.350</td>\n",
              "      <td>0.265</td>\n",
              "      <td>0.090</td>\n",
              "      <td>0.2255</td>\n",
              "      <td>0.0995</td>\n",
              "      <td>0.0485</td>\n",
              "      <td>0.070</td>\n",
              "      <td>8.5</td>\n",
              "    </tr>\n",
              "    <tr>\n",
              "      <th>2</th>\n",
              "      <td>0</td>\n",
              "      <td>0.530</td>\n",
              "      <td>0.420</td>\n",
              "      <td>0.135</td>\n",
              "      <td>0.6770</td>\n",
              "      <td>0.2565</td>\n",
              "      <td>0.1415</td>\n",
              "      <td>0.210</td>\n",
              "      <td>10.5</td>\n",
              "    </tr>\n",
              "    <tr>\n",
              "      <th>3</th>\n",
              "      <td>2</td>\n",
              "      <td>0.440</td>\n",
              "      <td>0.365</td>\n",
              "      <td>0.125</td>\n",
              "      <td>0.5160</td>\n",
              "      <td>0.2155</td>\n",
              "      <td>0.1140</td>\n",
              "      <td>0.155</td>\n",
              "      <td>11.5</td>\n",
              "    </tr>\n",
              "    <tr>\n",
              "      <th>4</th>\n",
              "      <td>1</td>\n",
              "      <td>0.330</td>\n",
              "      <td>0.255</td>\n",
              "      <td>0.080</td>\n",
              "      <td>0.2050</td>\n",
              "      <td>0.0895</td>\n",
              "      <td>0.0395</td>\n",
              "      <td>0.055</td>\n",
              "      <td>8.5</td>\n",
              "    </tr>\n",
              "  </tbody>\n",
              "</table>\n",
              "</div>"
            ],
            "text/plain": [
              "   Sex  Length  Diameter  Height  Whole_weight  Shucked_weight  \\\n",
              "0    2   0.455     0.365   0.095        0.5140          0.2245   \n",
              "1    2   0.350     0.265   0.090        0.2255          0.0995   \n",
              "2    0   0.530     0.420   0.135        0.6770          0.2565   \n",
              "3    2   0.440     0.365   0.125        0.5160          0.2155   \n",
              "4    1   0.330     0.255   0.080        0.2050          0.0895   \n",
              "\n",
              "   Viscera_weight  Shell_weight   Age  \n",
              "0          0.1010         0.150  16.5  \n",
              "1          0.0485         0.070   8.5  \n",
              "2          0.1415         0.210  10.5  \n",
              "3          0.1140         0.155  11.5  \n",
              "4          0.0395         0.055   8.5  "
            ]
          },
          "execution_count": 29,
          "metadata": {},
          "output_type": "execute_result"
        }
      ],
      "source": [
        "from sklearn.preprocessing import LabelEncoder\n",
        "\n",
        "lab = LabelEncoder()\n",
        "data.Sex = lab.fit_transform(data.Sex)\n",
        "\n",
        "data.head()"
      ]
    },
    {
      "cell_type": "markdown",
      "id": "65e65ca7",
      "metadata": {
        "id": "65e65ca7"
      },
      "source": [
        "Split the data into dependent and independent variables"
      ]
    },
    {
      "cell_type": "code",
      "execution_count": null,
      "id": "2c3f2208",
      "metadata": {
        "id": "2c3f2208",
        "outputId": "8bf255b9-d0b0-46c7-b677-dae66c0e2f7a"
      },
      "outputs": [
        {
          "data": {
            "text/plain": [
              "0    2\n",
              "1    2\n",
              "2    0\n",
              "3    2\n",
              "4    1\n",
              "Name: Sex, dtype: int32"
            ]
          },
          "execution_count": 30,
          "metadata": {},
          "output_type": "execute_result"
        }
      ],
      "source": [
        "y = data[\"Sex\"]\n",
        "y.head()"
      ]
    },
    {
      "cell_type": "code",
      "execution_count": null,
      "id": "6eb11148",
      "metadata": {
        "id": "6eb11148",
        "outputId": "e790d5ce-5ed8-470b-ce1c-b2cd178a8118"
      },
      "outputs": [
        {
          "data": {
            "text/html": [
              "<div>\n",
              "<style scoped>\n",
              "    .dataframe tbody tr th:only-of-type {\n",
              "        vertical-align: middle;\n",
              "    }\n",
              "\n",
              "    .dataframe tbody tr th {\n",
              "        vertical-align: top;\n",
              "    }\n",
              "\n",
              "    .dataframe thead th {\n",
              "        text-align: right;\n",
              "    }\n",
              "</style>\n",
              "<table border=\"1\" class=\"dataframe\">\n",
              "  <thead>\n",
              "    <tr style=\"text-align: right;\">\n",
              "      <th></th>\n",
              "      <th>Length</th>\n",
              "      <th>Diameter</th>\n",
              "      <th>Height</th>\n",
              "      <th>Whole_weight</th>\n",
              "      <th>Shucked_weight</th>\n",
              "      <th>Viscera_weight</th>\n",
              "      <th>Shell_weight</th>\n",
              "      <th>Age</th>\n",
              "    </tr>\n",
              "  </thead>\n",
              "  <tbody>\n",
              "    <tr>\n",
              "      <th>0</th>\n",
              "      <td>0.455</td>\n",
              "      <td>0.365</td>\n",
              "      <td>0.095</td>\n",
              "      <td>0.5140</td>\n",
              "      <td>0.2245</td>\n",
              "      <td>0.1010</td>\n",
              "      <td>0.150</td>\n",
              "      <td>16.5</td>\n",
              "    </tr>\n",
              "    <tr>\n",
              "      <th>1</th>\n",
              "      <td>0.350</td>\n",
              "      <td>0.265</td>\n",
              "      <td>0.090</td>\n",
              "      <td>0.2255</td>\n",
              "      <td>0.0995</td>\n",
              "      <td>0.0485</td>\n",
              "      <td>0.070</td>\n",
              "      <td>8.5</td>\n",
              "    </tr>\n",
              "    <tr>\n",
              "      <th>2</th>\n",
              "      <td>0.530</td>\n",
              "      <td>0.420</td>\n",
              "      <td>0.135</td>\n",
              "      <td>0.6770</td>\n",
              "      <td>0.2565</td>\n",
              "      <td>0.1415</td>\n",
              "      <td>0.210</td>\n",
              "      <td>10.5</td>\n",
              "    </tr>\n",
              "    <tr>\n",
              "      <th>3</th>\n",
              "      <td>0.440</td>\n",
              "      <td>0.365</td>\n",
              "      <td>0.125</td>\n",
              "      <td>0.5160</td>\n",
              "      <td>0.2155</td>\n",
              "      <td>0.1140</td>\n",
              "      <td>0.155</td>\n",
              "      <td>11.5</td>\n",
              "    </tr>\n",
              "    <tr>\n",
              "      <th>4</th>\n",
              "      <td>0.330</td>\n",
              "      <td>0.255</td>\n",
              "      <td>0.080</td>\n",
              "      <td>0.2050</td>\n",
              "      <td>0.0895</td>\n",
              "      <td>0.0395</td>\n",
              "      <td>0.055</td>\n",
              "      <td>8.5</td>\n",
              "    </tr>\n",
              "  </tbody>\n",
              "</table>\n",
              "</div>"
            ],
            "text/plain": [
              "   Length  Diameter  Height  Whole_weight  Shucked_weight  Viscera_weight  \\\n",
              "0   0.455     0.365   0.095        0.5140          0.2245          0.1010   \n",
              "1   0.350     0.265   0.090        0.2255          0.0995          0.0485   \n",
              "2   0.530     0.420   0.135        0.6770          0.2565          0.1415   \n",
              "3   0.440     0.365   0.125        0.5160          0.2155          0.1140   \n",
              "4   0.330     0.255   0.080        0.2050          0.0895          0.0395   \n",
              "\n",
              "   Shell_weight   Age  \n",
              "0         0.150  16.5  \n",
              "1         0.070   8.5  \n",
              "2         0.210  10.5  \n",
              "3         0.155  11.5  \n",
              "4         0.055   8.5  "
            ]
          },
          "execution_count": 31,
          "metadata": {},
          "output_type": "execute_result"
        }
      ],
      "source": [
        "x=data.drop(columns=[\"Sex\"],axis=1)\n",
        "x.head()"
      ]
    },
    {
      "cell_type": "markdown",
      "id": "ca246a30",
      "metadata": {
        "id": "ca246a30"
      },
      "source": [
        " Scale the independent variables"
      ]
    },
    {
      "cell_type": "code",
      "execution_count": null,
      "id": "75917c9c",
      "metadata": {
        "id": "75917c9c",
        "outputId": "4c58d607-697f-42b8-d935-4a07bc3e806c"
      },
      "outputs": [
        {
          "data": {
            "text/html": [
              "<div>\n",
              "<style scoped>\n",
              "    .dataframe tbody tr th:only-of-type {\n",
              "        vertical-align: middle;\n",
              "    }\n",
              "\n",
              "    .dataframe tbody tr th {\n",
              "        vertical-align: top;\n",
              "    }\n",
              "\n",
              "    .dataframe thead th {\n",
              "        text-align: right;\n",
              "    }\n",
              "</style>\n",
              "<table border=\"1\" class=\"dataframe\">\n",
              "  <thead>\n",
              "    <tr style=\"text-align: right;\">\n",
              "      <th></th>\n",
              "      <th>Length</th>\n",
              "      <th>Diameter</th>\n",
              "      <th>Height</th>\n",
              "      <th>Whole_weight</th>\n",
              "      <th>Shucked_weight</th>\n",
              "      <th>Viscera_weight</th>\n",
              "      <th>Shell_weight</th>\n",
              "      <th>Age</th>\n",
              "    </tr>\n",
              "  </thead>\n",
              "  <tbody>\n",
              "    <tr>\n",
              "      <th>0</th>\n",
              "      <td>-0.574558</td>\n",
              "      <td>-0.432149</td>\n",
              "      <td>-1.064424</td>\n",
              "      <td>-0.641898</td>\n",
              "      <td>-0.607685</td>\n",
              "      <td>-0.726212</td>\n",
              "      <td>-0.638217</td>\n",
              "      <td>1.577830</td>\n",
              "    </tr>\n",
              "    <tr>\n",
              "      <th>1</th>\n",
              "      <td>-1.448986</td>\n",
              "      <td>-1.439929</td>\n",
              "      <td>-1.183978</td>\n",
              "      <td>-1.230277</td>\n",
              "      <td>-1.170910</td>\n",
              "      <td>-1.205221</td>\n",
              "      <td>-1.212987</td>\n",
              "      <td>-0.919022</td>\n",
              "    </tr>\n",
              "    <tr>\n",
              "      <th>2</th>\n",
              "      <td>0.050033</td>\n",
              "      <td>0.122130</td>\n",
              "      <td>-0.107991</td>\n",
              "      <td>-0.309469</td>\n",
              "      <td>-0.463500</td>\n",
              "      <td>-0.356690</td>\n",
              "      <td>-0.207139</td>\n",
              "      <td>-0.294809</td>\n",
              "    </tr>\n",
              "    <tr>\n",
              "      <th>3</th>\n",
              "      <td>-0.699476</td>\n",
              "      <td>-0.432149</td>\n",
              "      <td>-0.347099</td>\n",
              "      <td>-0.637819</td>\n",
              "      <td>-0.648238</td>\n",
              "      <td>-0.607600</td>\n",
              "      <td>-0.602294</td>\n",
              "      <td>0.017298</td>\n",
              "    </tr>\n",
              "    <tr>\n",
              "      <th>4</th>\n",
              "      <td>-1.615544</td>\n",
              "      <td>-1.540707</td>\n",
              "      <td>-1.423087</td>\n",
              "      <td>-1.272086</td>\n",
              "      <td>-1.215968</td>\n",
              "      <td>-1.287337</td>\n",
              "      <td>-1.320757</td>\n",
              "      <td>-0.919022</td>\n",
              "    </tr>\n",
              "  </tbody>\n",
              "</table>\n",
              "</div>"
            ],
            "text/plain": [
              "     Length  Diameter    Height  Whole_weight  Shucked_weight  Viscera_weight  \\\n",
              "0 -0.574558 -0.432149 -1.064424     -0.641898       -0.607685       -0.726212   \n",
              "1 -1.448986 -1.439929 -1.183978     -1.230277       -1.170910       -1.205221   \n",
              "2  0.050033  0.122130 -0.107991     -0.309469       -0.463500       -0.356690   \n",
              "3 -0.699476 -0.432149 -0.347099     -0.637819       -0.648238       -0.607600   \n",
              "4 -1.615544 -1.540707 -1.423087     -1.272086       -1.215968       -1.287337   \n",
              "\n",
              "   Shell_weight       Age  \n",
              "0     -0.638217  1.577830  \n",
              "1     -1.212987 -0.919022  \n",
              "2     -0.207139 -0.294809  \n",
              "3     -0.602294  0.017298  \n",
              "4     -1.320757 -0.919022  "
            ]
          },
          "execution_count": 32,
          "metadata": {},
          "output_type": "execute_result"
        }
      ],
      "source": [
        "from sklearn.preprocessing import scale\n",
        "X_Scaled = pd.DataFrame(scale(x), columns=x.columns)\n",
        "X_Scaled.head()"
      ]
    },
    {
      "cell_type": "markdown",
      "id": "13f7bbbe",
      "metadata": {
        "id": "13f7bbbe"
      },
      "source": [
        "Split the data into training and testing"
      ]
    },
    {
      "cell_type": "code",
      "execution_count": null,
      "id": "715c9d58",
      "metadata": {
        "id": "715c9d58",
        "outputId": "d4cf71d7-1eae-4867-baf6-b3df267b5cb8"
      },
      "outputs": [
        {
          "data": {
            "text/plain": [
              "((3341, 8), (836, 8))"
            ]
          },
          "execution_count": 33,
          "metadata": {},
          "output_type": "execute_result"
        }
      ],
      "source": [
        "from sklearn.model_selection import train_test_split\n",
        "X_Train, X_Test, Y_Train, Y_Test = train_test_split(X_Scaled, y, test_size=0.2, random_state=0)\n",
        "X_Train.shape,X_Test.shape"
      ]
    },
    {
      "cell_type": "code",
      "execution_count": null,
      "id": "ab520ff8",
      "metadata": {
        "id": "ab520ff8",
        "outputId": "1d32768a-2d48-4774-fcc0-d73a7c7b0687"
      },
      "outputs": [
        {
          "data": {
            "text/plain": [
              "((3341,), (836,))"
            ]
          },
          "execution_count": 34,
          "metadata": {},
          "output_type": "execute_result"
        }
      ],
      "source": [
        "Y_Train.shape,Y_Test.shape"
      ]
    },
    {
      "cell_type": "code",
      "execution_count": null,
      "id": "bbb6e84c",
      "metadata": {
        "id": "bbb6e84c",
        "outputId": "5162a530-845d-4926-d558-9324cae5ad3d"
      },
      "outputs": [
        {
          "data": {
            "text/html": [
              "<div>\n",
              "<style scoped>\n",
              "    .dataframe tbody tr th:only-of-type {\n",
              "        vertical-align: middle;\n",
              "    }\n",
              "\n",
              "    .dataframe tbody tr th {\n",
              "        vertical-align: top;\n",
              "    }\n",
              "\n",
              "    .dataframe thead th {\n",
              "        text-align: right;\n",
              "    }\n",
              "</style>\n",
              "<table border=\"1\" class=\"dataframe\">\n",
              "  <thead>\n",
              "    <tr style=\"text-align: right;\">\n",
              "      <th></th>\n",
              "      <th>Length</th>\n",
              "      <th>Diameter</th>\n",
              "      <th>Height</th>\n",
              "      <th>Whole_weight</th>\n",
              "      <th>Shucked_weight</th>\n",
              "      <th>Viscera_weight</th>\n",
              "      <th>Shell_weight</th>\n",
              "      <th>Age</th>\n",
              "    </tr>\n",
              "  </thead>\n",
              "  <tbody>\n",
              "    <tr>\n",
              "      <th>3141</th>\n",
              "      <td>-2.864726</td>\n",
              "      <td>-2.750043</td>\n",
              "      <td>-1.423087</td>\n",
              "      <td>-1.622870</td>\n",
              "      <td>-1.553902</td>\n",
              "      <td>-1.583867</td>\n",
              "      <td>-1.644065</td>\n",
              "      <td>-1.543234</td>\n",
              "    </tr>\n",
              "    <tr>\n",
              "      <th>3521</th>\n",
              "      <td>-2.573250</td>\n",
              "      <td>-2.598876</td>\n",
              "      <td>-2.020857</td>\n",
              "      <td>-1.606554</td>\n",
              "      <td>-1.551650</td>\n",
              "      <td>-1.565619</td>\n",
              "      <td>-1.626104</td>\n",
              "      <td>-1.387181</td>\n",
              "    </tr>\n",
              "    <tr>\n",
              "      <th>883</th>\n",
              "      <td>1.132658</td>\n",
              "      <td>1.230689</td>\n",
              "      <td>0.728888</td>\n",
              "      <td>1.145672</td>\n",
              "      <td>1.041436</td>\n",
              "      <td>0.286552</td>\n",
              "      <td>1.538726</td>\n",
              "      <td>1.577830</td>\n",
              "    </tr>\n",
              "    <tr>\n",
              "      <th>3627</th>\n",
              "      <td>1.590691</td>\n",
              "      <td>1.180300</td>\n",
              "      <td>1.446213</td>\n",
              "      <td>2.164373</td>\n",
              "      <td>2.661269</td>\n",
              "      <td>2.330326</td>\n",
              "      <td>1.377072</td>\n",
              "      <td>0.017298</td>\n",
              "    </tr>\n",
              "    <tr>\n",
              "      <th>2106</th>\n",
              "      <td>0.591345</td>\n",
              "      <td>0.474853</td>\n",
              "      <td>0.370226</td>\n",
              "      <td>0.432887</td>\n",
              "      <td>0.255175</td>\n",
              "      <td>0.272866</td>\n",
              "      <td>0.906479</td>\n",
              "      <td>1.265723</td>\n",
              "    </tr>\n",
              "  </tbody>\n",
              "</table>\n",
              "</div>"
            ],
            "text/plain": [
              "        Length  Diameter    Height  Whole_weight  Shucked_weight  \\\n",
              "3141 -2.864726 -2.750043 -1.423087     -1.622870       -1.553902   \n",
              "3521 -2.573250 -2.598876 -2.020857     -1.606554       -1.551650   \n",
              "883   1.132658  1.230689  0.728888      1.145672        1.041436   \n",
              "3627  1.590691  1.180300  1.446213      2.164373        2.661269   \n",
              "2106  0.591345  0.474853  0.370226      0.432887        0.255175   \n",
              "\n",
              "      Viscera_weight  Shell_weight       Age  \n",
              "3141       -1.583867     -1.644065 -1.543234  \n",
              "3521       -1.565619     -1.626104 -1.387181  \n",
              "883         0.286552      1.538726  1.577830  \n",
              "3627        2.330326      1.377072  0.017298  \n",
              "2106        0.272866      0.906479  1.265723  "
            ]
          },
          "execution_count": 35,
          "metadata": {},
          "output_type": "execute_result"
        }
      ],
      "source": [
        "X_Train.head()"
      ]
    },
    {
      "cell_type": "code",
      "execution_count": null,
      "id": "bff874b4",
      "metadata": {
        "id": "bff874b4",
        "outputId": "6e6dc4ff-ad0d-4bd6-dad9-3270428b7a05"
      },
      "outputs": [
        {
          "data": {
            "text/html": [
              "<div>\n",
              "<style scoped>\n",
              "    .dataframe tbody tr th:only-of-type {\n",
              "        vertical-align: middle;\n",
              "    }\n",
              "\n",
              "    .dataframe tbody tr th {\n",
              "        vertical-align: top;\n",
              "    }\n",
              "\n",
              "    .dataframe thead th {\n",
              "        text-align: right;\n",
              "    }\n",
              "</style>\n",
              "<table border=\"1\" class=\"dataframe\">\n",
              "  <thead>\n",
              "    <tr style=\"text-align: right;\">\n",
              "      <th></th>\n",
              "      <th>Length</th>\n",
              "      <th>Diameter</th>\n",
              "      <th>Height</th>\n",
              "      <th>Whole_weight</th>\n",
              "      <th>Shucked_weight</th>\n",
              "      <th>Viscera_weight</th>\n",
              "      <th>Shell_weight</th>\n",
              "      <th>Age</th>\n",
              "    </tr>\n",
              "  </thead>\n",
              "  <tbody>\n",
              "    <tr>\n",
              "      <th>668</th>\n",
              "      <td>0.216591</td>\n",
              "      <td>0.172519</td>\n",
              "      <td>0.370226</td>\n",
              "      <td>0.181016</td>\n",
              "      <td>-0.368878</td>\n",
              "      <td>0.569396</td>\n",
              "      <td>0.690940</td>\n",
              "      <td>0.953617</td>\n",
              "    </tr>\n",
              "    <tr>\n",
              "      <th>1580</th>\n",
              "      <td>-0.199803</td>\n",
              "      <td>-0.079426</td>\n",
              "      <td>-0.466653</td>\n",
              "      <td>-0.433875</td>\n",
              "      <td>-0.443224</td>\n",
              "      <td>-0.343004</td>\n",
              "      <td>-0.325685</td>\n",
              "      <td>-0.606915</td>\n",
              "    </tr>\n",
              "    <tr>\n",
              "      <th>3784</th>\n",
              "      <td>0.799543</td>\n",
              "      <td>0.726798</td>\n",
              "      <td>0.370226</td>\n",
              "      <td>0.870348</td>\n",
              "      <td>0.755318</td>\n",
              "      <td>1.764639</td>\n",
              "      <td>0.565209</td>\n",
              "      <td>0.329404</td>\n",
              "    </tr>\n",
              "    <tr>\n",
              "      <th>463</th>\n",
              "      <td>-2.531611</td>\n",
              "      <td>-2.447709</td>\n",
              "      <td>-2.020857</td>\n",
              "      <td>-1.579022</td>\n",
              "      <td>-1.522362</td>\n",
              "      <td>-1.538247</td>\n",
              "      <td>-1.572219</td>\n",
              "      <td>-1.543234</td>\n",
              "    </tr>\n",
              "    <tr>\n",
              "      <th>2615</th>\n",
              "      <td>1.007740</td>\n",
              "      <td>0.928354</td>\n",
              "      <td>0.848442</td>\n",
              "      <td>1.390405</td>\n",
              "      <td>1.415417</td>\n",
              "      <td>1.778325</td>\n",
              "      <td>0.996287</td>\n",
              "      <td>0.641511</td>\n",
              "    </tr>\n",
              "  </tbody>\n",
              "</table>\n",
              "</div>"
            ],
            "text/plain": [
              "        Length  Diameter    Height  Whole_weight  Shucked_weight  \\\n",
              "668   0.216591  0.172519  0.370226      0.181016       -0.368878   \n",
              "1580 -0.199803 -0.079426 -0.466653     -0.433875       -0.443224   \n",
              "3784  0.799543  0.726798  0.370226      0.870348        0.755318   \n",
              "463  -2.531611 -2.447709 -2.020857     -1.579022       -1.522362   \n",
              "2615  1.007740  0.928354  0.848442      1.390405        1.415417   \n",
              "\n",
              "      Viscera_weight  Shell_weight       Age  \n",
              "668         0.569396      0.690940  0.953617  \n",
              "1580       -0.343004     -0.325685 -0.606915  \n",
              "3784        1.764639      0.565209  0.329404  \n",
              "463        -1.538247     -1.572219 -1.543234  \n",
              "2615        1.778325      0.996287  0.641511  "
            ]
          },
          "execution_count": 36,
          "metadata": {},
          "output_type": "execute_result"
        }
      ],
      "source": [
        "X_Test.head()"
      ]
    },
    {
      "cell_type": "code",
      "execution_count": null,
      "id": "959d2aac",
      "metadata": {
        "id": "959d2aac",
        "outputId": "0e26e8da-d3bd-43d4-bc04-4fe29bb665d2"
      },
      "outputs": [
        {
          "data": {
            "text/plain": [
              "3141    1\n",
              "3521    1\n",
              "883     2\n",
              "3627    2\n",
              "2106    2\n",
              "Name: Sex, dtype: int32"
            ]
          },
          "execution_count": 37,
          "metadata": {},
          "output_type": "execute_result"
        }
      ],
      "source": [
        "Y_Train.head()"
      ]
    },
    {
      "cell_type": "code",
      "execution_count": null,
      "id": "3cf5c3ae",
      "metadata": {
        "id": "3cf5c3ae",
        "outputId": "2dd98050-b2c4-4f5d-a211-e55880aaa4d9"
      },
      "outputs": [
        {
          "data": {
            "text/plain": [
              "668     2\n",
              "1580    1\n",
              "3784    2\n",
              "463     1\n",
              "2615    2\n",
              "Name: Sex, dtype: int32"
            ]
          },
          "execution_count": 38,
          "metadata": {},
          "output_type": "execute_result"
        }
      ],
      "source": [
        "Y_Test.head()"
      ]
    },
    {
      "cell_type": "markdown",
      "id": "27deb5dc",
      "metadata": {
        "id": "27deb5dc"
      },
      "source": [
        "Build the Model"
      ]
    },
    {
      "cell_type": "code",
      "execution_count": null,
      "id": "1977af89",
      "metadata": {
        "id": "1977af89",
        "outputId": "a6ccbc08-c37b-4180-8d65-a9d8cc8a06ca"
      },
      "outputs": [
        {
          "data": {
            "text/plain": [
              "RandomForestClassifier(criterion='entropy', n_estimators=10)"
            ]
          },
          "execution_count": 39,
          "metadata": {},
          "output_type": "execute_result"
        }
      ],
      "source": [
        "from sklearn.ensemble import RandomForestClassifier\n",
        "model = RandomForestClassifier(n_estimators=10,criterion='entropy')\n",
        "model.fit(X_Train,Y_Train)"
      ]
    },
    {
      "cell_type": "code",
      "execution_count": null,
      "id": "24140a2b",
      "metadata": {
        "id": "24140a2b"
      },
      "outputs": [],
      "source": [
        "y_predict = model.predict(X_Test)\n",
        "y_predict_train = model.predict(X_Train)"
      ]
    },
    {
      "cell_type": "markdown",
      "id": "3d0f9683",
      "metadata": {
        "id": "3d0f9683"
      },
      "source": [
        "Train the Model"
      ]
    },
    {
      "cell_type": "code",
      "execution_count": null,
      "id": "341df4dc",
      "metadata": {
        "id": "341df4dc",
        "outputId": "ea0ba746-f384-469f-f268-f290d13845d4"
      },
      "outputs": [
        {
          "name": "stdout",
          "output_type": "stream",
          "text": [
            "Training accuracy:  0.9862316671655194\n"
          ]
        }
      ],
      "source": [
        "from sklearn.metrics import accuracy_score,confusion_matrix,classification_report\n",
        "print('Training accuracy: ',accuracy_score(Y_Train,y_predict_train))"
      ]
    },
    {
      "cell_type": "markdown",
      "id": "267e08a5",
      "metadata": {
        "id": "267e08a5"
      },
      "source": [
        "Test the Model"
      ]
    },
    {
      "cell_type": "code",
      "execution_count": null,
      "id": "b7e37a85",
      "metadata": {
        "id": "b7e37a85",
        "outputId": "26bb2d15-7d46-4f28-b7e9-976f8f70cbed"
      },
      "outputs": [
        {
          "name": "stdout",
          "output_type": "stream",
          "text": [
            "Testing accuracy:  0.5287081339712919\n"
          ]
        }
      ],
      "source": [
        "print('Testing accuracy: ',accuracy_score(Y_Test,y_predict))"
      ]
    },
    {
      "cell_type": "markdown",
      "id": "52b629ed",
      "metadata": {
        "id": "52b629ed"
      },
      "source": [
        "Measure the performance using Metrics"
      ]
    },
    {
      "cell_type": "code",
      "execution_count": null,
      "id": "ede48983",
      "metadata": {
        "id": "ede48983",
        "outputId": "c82a1985-9e09-4576-a551-3fedbfeabb8c"
      },
      "outputs": [
        {
          "data": {
            "text/html": [
              "<div>\n",
              "<style scoped>\n",
              "    .dataframe tbody tr th:only-of-type {\n",
              "        vertical-align: middle;\n",
              "    }\n",
              "\n",
              "    .dataframe tbody tr th {\n",
              "        vertical-align: top;\n",
              "    }\n",
              "\n",
              "    .dataframe thead th {\n",
              "        text-align: right;\n",
              "    }\n",
              "</style>\n",
              "<table border=\"1\" class=\"dataframe\">\n",
              "  <thead>\n",
              "    <tr style=\"text-align: right;\">\n",
              "      <th>col_0</th>\n",
              "      <th>0</th>\n",
              "      <th>1</th>\n",
              "      <th>2</th>\n",
              "    </tr>\n",
              "    <tr>\n",
              "      <th>Sex</th>\n",
              "      <th></th>\n",
              "      <th></th>\n",
              "      <th></th>\n",
              "    </tr>\n",
              "  </thead>\n",
              "  <tbody>\n",
              "    <tr>\n",
              "      <th>0</th>\n",
              "      <td>119</td>\n",
              "      <td>26</td>\n",
              "      <td>104</td>\n",
              "    </tr>\n",
              "    <tr>\n",
              "      <th>1</th>\n",
              "      <td>45</td>\n",
              "      <td>217</td>\n",
              "      <td>29</td>\n",
              "    </tr>\n",
              "    <tr>\n",
              "      <th>2</th>\n",
              "      <td>129</td>\n",
              "      <td>61</td>\n",
              "      <td>106</td>\n",
              "    </tr>\n",
              "  </tbody>\n",
              "</table>\n",
              "</div>"
            ],
            "text/plain": [
              "col_0    0    1    2\n",
              "Sex                 \n",
              "0      119   26  104\n",
              "1       45  217   29\n",
              "2      129   61  106"
            ]
          },
          "execution_count": 43,
          "metadata": {},
          "output_type": "execute_result"
        }
      ],
      "source": [
        "pd.crosstab(Y_Test,y_predict)"
      ]
    },
    {
      "cell_type": "code",
      "execution_count": null,
      "id": "cf7129d5",
      "metadata": {
        "id": "cf7129d5",
        "outputId": "fa7719d4-e1a0-4881-803b-d7acd8d0d8b9"
      },
      "outputs": [
        {
          "name": "stdout",
          "output_type": "stream",
          "text": [
            "              precision    recall  f1-score   support\n",
            "\n",
            "           0       0.41      0.48      0.44       249\n",
            "           1       0.71      0.75      0.73       291\n",
            "           2       0.44      0.36      0.40       296\n",
            "\n",
            "    accuracy                           0.53       836\n",
            "   macro avg       0.52      0.53      0.52       836\n",
            "weighted avg       0.53      0.53      0.52       836\n",
            "\n"
          ]
        }
      ],
      "source": [
        "print(classification_report(Y_Test,y_predict))"
      ]
    },
    {
      "cell_type": "code",
      "execution_count": null,
      "id": "8e812af2",
      "metadata": {
        "id": "8e812af2"
      },
      "outputs": [],
      "source": []
    }
  ],
  "metadata": {
    "kernelspec": {
      "display_name": "Python 3 (ipykernel)",
      "language": "python",
      "name": "python3"
    },
    "language_info": {
      "codemirror_mode": {
        "name": "ipython",
        "version": 3
      },
      "file_extension": ".py",
      "mimetype": "text/x-python",
      "name": "python",
      "nbconvert_exporter": "python",
      "pygments_lexer": "ipython3",
      "version": "3.9.7"
    },
    "colab": {
      "provenance": []
    }
  },
  "nbformat": 4,
  "nbformat_minor": 5
}